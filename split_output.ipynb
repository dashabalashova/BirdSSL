{
 "cells": [
  {
   "cell_type": "code",
   "execution_count": 99,
   "id": "3773d152-5591-475d-9191-5ec1968c0d27",
   "metadata": {},
   "outputs": [],
   "source": [
    "import pandas as pd\n",
    "from sklearn.utils import shuffle\n",
    "\n",
    "df = pd.read_csv('../data_processed/train_metadata_sets_v5.csv', sep=',')\n",
    "df = df[df.set=='train']\n",
    "\n",
    "def add_fold_column(data, val_frac=0.2, random_state=42):\n",
    "    grouped = data.groupby('primary_label')\n",
    "    fold = []\n",
    "    for label, group in grouped:\n",
    "        group = shuffle(group, random_state=random_state)\n",
    "        val_count = max(1, int(len(group) * val_frac))\n",
    "        fold.extend([1] * val_count + [0] * (len(group) - val_count))\n",
    "    data['fold'] = fold\n",
    "    return data\n",
    "\n",
    "df = add_fold_column(df, val_frac=0.2)\n",
    "df[['id', 'set', 'fold']].to_csv('test1.tsv', sep='\\t', index=None)"
   ]
  },
  {
   "cell_type": "code",
   "execution_count": 108,
   "id": "6ed304d1-2f8a-4250-aa7a-e03cdb563a14",
   "metadata": {},
   "outputs": [],
   "source": [
    "df = pd.read_csv('../data_processed/train_metadata_sets_v5.csv', sep=',')\n",
    "df_test = df[df.set=='test']\n",
    "df_test[['id', 'set']].to_csv('test2.tsv', sep='\\t', index=None)"
   ]
  }
 ],
 "metadata": {
  "kernelspec": {
   "display_name": "Python 3 (ipykernel)",
   "language": "python",
   "name": "python3"
  },
  "language_info": {
   "codemirror_mode": {
    "name": "ipython",
    "version": 3
   },
   "file_extension": ".py",
   "mimetype": "text/x-python",
   "name": "python",
   "nbconvert_exporter": "python",
   "pygments_lexer": "ipython3",
   "version": "3.11.6"
  }
 },
 "nbformat": 4,
 "nbformat_minor": 5
}
