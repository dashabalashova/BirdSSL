{
 "cells": [
  {
   "cell_type": "code",
   "execution_count": 99,
   "id": "3773d152-5591-475d-9191-5ec1968c0d27",
   "metadata": {},
   "outputs": [],
   "source": [
    "import pandas as pd\n",
    "from sklearn.utils import shuffle\n",
    "\n",
    "df = pd.read_csv('../data_processed/train_metadata_sets_v5.csv', sep=',')\n",
    "df = df[df.set=='train']\n",
    "\n",
    "def add_fold_column(data, val_frac=0.2, random_state=42):\n",
    "    grouped = data.groupby('primary_label')\n",
    "    fold = []  # To store fold assignments (0 for training, 1 for validation)\n",
    "\n",
    "    for label, group in grouped:\n",
    "        group = shuffle(group, random_state=random_state)  # Shuffle to randomize\n",
    "        val_count = max(1, int(len(group) * val_frac))  # At least one instance in validation\n",
    "        \n",
    "        # Assign fold: 1 for validation, 0 for training\n",
    "        fold.extend([1] * val_count + [0] * (len(group) - val_count))\n",
    "    \n",
    "    # Add the fold column back to the original DataFrame\n",
    "    data['fold'] = fold\n",
    "    return data\n",
    "\n",
    "# Apply the function\n",
    "df = add_fold_column(df, val_frac=0.2)"
   ]
  },
  {
   "cell_type": "code",
   "execution_count": 101,
   "id": "31edcc39-2eeb-4f12-8c1d-5cb5b77c4d67",
   "metadata": {},
   "outputs": [],
   "source": [
    "df[['id', 'set', 'fold']].to_csv('test1.tsv', sep='\\t', index=None)"
   ]
  },
  {
   "cell_type": "code",
   "execution_count": 106,
   "id": "98f4cef1-9eff-4f2e-bb83-b7ac4b0721d6",
   "metadata": {},
   "outputs": [
    {
     "data": {
      "text/plain": [
       "np.float64(0.1966406023747466)"
      ]
     },
     "execution_count": 106,
     "metadata": {},
     "output_type": "execute_result"
    }
   ],
   "source": [
    "df[['id', 'set', 'fold']].fold.mean()"
   ]
  },
  {
   "cell_type": "code",
   "execution_count": 108,
   "id": "6ed304d1-2f8a-4250-aa7a-e03cdb563a14",
   "metadata": {},
   "outputs": [],
   "source": [
    "df = pd.read_csv('../data_processed/train_metadata_sets_v5.csv', sep=',')\n",
    "\n",
    "df_test = df[df.set=='test']\n",
    "\n",
    "df_test[['id', 'set']].to_csv('test2.tsv', sep='\\t', index=None)"
   ]
  },
  {
   "cell_type": "code",
   "execution_count": null,
   "id": "4c21a074-7144-4ce7-b3c7-d21a9015f37f",
   "metadata": {},
   "outputs": [],
   "source": []
  }
 ],
 "metadata": {
  "kernelspec": {
   "display_name": "Python 3 (ipykernel)",
   "language": "python",
   "name": "python3"
  },
  "language_info": {
   "codemirror_mode": {
    "name": "ipython",
    "version": 3
   },
   "file_extension": ".py",
   "mimetype": "text/x-python",
   "name": "python",
   "nbconvert_exporter": "python",
   "pygments_lexer": "ipython3",
   "version": "3.10.15"
  }
 },
 "nbformat": 4,
 "nbformat_minor": 5
}
