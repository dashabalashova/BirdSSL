{
 "cells": [
  {
   "cell_type": "code",
   "execution_count": 1,
   "id": "f5a5cd04-46e3-4776-99fd-3c1626450503",
   "metadata": {},
   "outputs": [],
   "source": [
    "data_version = 'v5'"
   ]
  },
  {
   "cell_type": "code",
   "execution_count": 2,
   "id": "12d421b2-8edb-4a64-8aa2-e22965d2d49f",
   "metadata": {},
   "outputs": [
    {
     "name": "stderr",
     "output_type": "stream",
     "text": [
      "/home/dbalashova2/.local/lib/python3.10/site-packages/albumentations/__init__.py:24: UserWarning: A new version of Albumentations is available: 1.4.22 (you have 1.4.21). Upgrade using: pip install -U albumentations. To disable automatic update checks, set the environment variable NO_ALBUMENTATIONS_UPDATE to 1.\n",
      "  check_for_updates()\n"
     ]
    }
   ],
   "source": [
    "import os\n",
    "import torch\n",
    "import random\n",
    "import numpy as np\n",
    "import timm\n",
    "from pylab import rcParams\n",
    "from torch.optim import AdamW\n",
    "import matplotlib.pyplot as plt\n",
    "import pandas as pd\n",
    "from sklearn.model_selection import StratifiedKFold\n",
    "from warmup_scheduler import GradualWarmupScheduler\n",
    "import albumentations as A\n",
    "import torchaudio\n",
    "import time\n",
    "from tqdm import tqdm\n",
    "import torchvision\n",
    "import gc\n",
    "from sklearn.utils import shuffle\n",
    "\n",
    "import warnings\n",
    "warnings.filterwarnings(\"ignore\")\n"
   ]
  },
  {
   "cell_type": "code",
   "execution_count": 3,
   "id": "4e8ba7c9-8a26-4c92-b767-d6cb8f49603d",
   "metadata": {},
   "outputs": [],
   "source": [
    "def metrics_to_string(scores, key_word):\n",
    "    log_info = \"\"\n",
    "    for key in scores.keys():\n",
    "        log_info = log_info + f\"{key_word} {key} : {scores[key]:.4f}, \"\n",
    "    return log_info"
   ]
  },
  {
   "cell_type": "code",
   "execution_count": 4,
   "id": "116f5ea4",
   "metadata": {
    "ExecuteTime": {
     "end_time": "2024-05-02T08:55:35.550548Z",
     "start_time": "2024-05-02T08:55:35.546391Z"
    }
   },
   "outputs": [],
   "source": [
    "exp_name = 'exp_'+data_version\n",
    "backbone = 'eca_nfnet_l0'\n",
    "seed = 42\n",
    "batch_size = 64\n",
    "num_workers = 0\n",
    "\n",
    "n_epochs = 20\n",
    "warmup_epo = 5\n",
    "cosine_epo = n_epochs - warmup_epo\n",
    "\n",
    "image_size = 256\n",
    "\n",
    "lr_max = 1e-5\n",
    "lr_min = 1e-7\n",
    "weight_decay = 1e-6\n",
    "\n",
    "mel_spec_params = {\n",
    "    \"sample_rate\": 32000,\n",
    "    \"n_mels\": 128,\n",
    "    \"f_min\": 20,\n",
    "    \"f_max\": 16000,\n",
    "    \"n_fft\": 2048,\n",
    "    \"hop_length\": 512,\n",
    "    \"normalized\": True,\n",
    "    \"center\" : True,\n",
    "    \"pad_mode\" : \"constant\",\n",
    "    \"norm\" : \"slaney\",\n",
    "    \"onesided\" : True,\n",
    "    \"mel_scale\" : \"slaney\"\n",
    "}\n",
    "\n",
    "top_db = 80\n",
    "train_period = 5\n",
    "val_period = 5\n",
    "\n",
    "secondary_coef = 1.0\n",
    "\n",
    "train_duration = train_period * mel_spec_params[\"sample_rate\"]\n",
    "val_duration = val_period * mel_spec_params[\"sample_rate\"]\n",
    "\n",
    "N_FOLD = 5\n",
    "#fold = 2\n",
    "\n",
    "use_amp = True\n",
    "max_grad_norm = 10\n",
    "early_stopping = 7\n",
    "\n",
    "device = torch.device('cuda' if torch.cuda.is_available() else 'cpu')\n",
    "\n",
    "output_folder = \"outputs\"\n",
    "os.makedirs(output_folder, exist_ok=True)\n",
    "os.makedirs(os.path.join(output_folder, exp_name), exist_ok=True)\n",
    "\n"
   ]
  },
  {
   "cell_type": "markdown",
   "id": "0775e4ec",
   "metadata": {},
   "source": [
    "## Seed Everything"
   ]
  },
  {
   "cell_type": "code",
   "execution_count": 5,
   "id": "81074489",
   "metadata": {
    "ExecuteTime": {
     "end_time": "2024-05-02T08:55:35.567584Z",
     "start_time": "2024-05-02T08:55:35.550548Z"
    }
   },
   "outputs": [],
   "source": [
    "def set_seed(seed=42):\n",
    "    random.seed(seed)\n",
    "    os.environ[\"PYTHONHASHSEED\"] = str(seed)\n",
    "    np.random.seed(seed)\n",
    "    torch.manual_seed(seed)\n",
    "    torch.cuda.manual_seed(seed)\n",
    "    # torch.cuda.manual_seed_all(seed)\n",
    "    torch.backends.cudnn.deterministic = True\n",
    "    torch.backends.cudnn.benchmark = False\n",
    "    \n",
    "set_seed(seed)\n"
   ]
  },
  {
   "cell_type": "markdown",
   "id": "42954123",
   "metadata": {},
   "source": [
    "## Data"
   ]
  },
  {
   "cell_type": "code",
   "execution_count": 7,
   "id": "a8ec3d10",
   "metadata": {
    "ExecuteTime": {
     "end_time": "2024-05-02T08:55:35.624574Z",
     "start_time": "2024-05-02T08:55:35.567584Z"
    }
   },
   "outputs": [],
   "source": [
    "\n",
    "df = pd.read_csv('../data_processed/train_metadata_sets_'+data_version+'.csv').reset_index(drop=True)\n",
    "\n",
    "\n",
    "df[\"path\"] = \"../data/birdclef-2024/train_audio/\" + df[\"filename\"]\n",
    "df[\"rating\"] = np.clip(df[\"rating\"] / df[\"rating\"].max(), 0.1, 1.0)\n",
    "\n",
    "skf = StratifiedKFold(n_splits=N_FOLD, random_state=seed, shuffle=True)\n",
    "\n",
    "df_test = df[df.set=='test'].reset_index(drop=True)\n",
    "df = df[df.set=='train'].reset_index(drop=True)\n",
    "\n",
    "def add_fold_column(data, val_frac=0.2, random_state=42):\n",
    "    grouped = data.groupby('primary_label')\n",
    "    fold = []  # To store fold assignments (0 for training, 1 for validation)\n",
    "\n",
    "    for label, group in grouped:\n",
    "        group = shuffle(group, random_state=random_state)  # Shuffle to randomize\n",
    "        val_count = max(1, int(len(group) * val_frac))  # At least one instance in validation\n",
    "        \n",
    "        # Assign fold: 1 for validation, 0 for training\n",
    "        fold.extend([1] * val_count + [0] * (len(group) - val_count))\n",
    "    \n",
    "    # Add the fold column back to the original DataFrame\n",
    "    data['fold'] = fold\n",
    "    return data\n",
    "\n",
    "# Apply the function\n",
    "df = add_fold_column(df, val_frac=0.2)\n",
    "\n",
    "####################################################################################################\n",
    "\n",
    "\n",
    "sub = pd.read_csv(\"../data/birdclef-2024/sample_submission.csv\")\n",
    "target_columns = sub.columns.tolist()[1:]\n",
    "num_classes = len(target_columns)\n",
    "bird2id = {b: i for i, b in enumerate(target_columns)}\n"
   ]
  },
  {
   "cell_type": "markdown",
   "id": "44a369f7",
   "metadata": {},
   "source": [
    "## Dataset"
   ]
  },
  {
   "cell_type": "code",
   "execution_count": null,
   "id": "0ffe94f7-c559-4f70-9e77-b08a47b94329",
   "metadata": {},
   "outputs": [],
   "source": []
  },
  {
   "cell_type": "code",
   "execution_count": 8,
   "id": "0570a24a",
   "metadata": {
    "ExecuteTime": {
     "end_time": "2024-05-02T08:55:35.630720Z",
     "start_time": "2024-05-02T08:55:35.625578Z"
    }
   },
   "outputs": [],
   "source": [
    "\n",
    "def normalize_melspec(X, eps=1e-6):\n",
    "    mean = X.mean((1, 2), keepdim=True)\n",
    "    std = X.std((1, 2), keepdim=True)\n",
    "    Xstd = (X - mean) / (std + eps)\n",
    "\n",
    "    norm_min, norm_max = (\n",
    "        Xstd.min(-1)[0].min(-1)[0],\n",
    "        Xstd.max(-1)[0].max(-1)[0],\n",
    "    )\n",
    "    fix_ind = (norm_max - norm_min) > eps * torch.ones_like(\n",
    "        (norm_max - norm_min)\n",
    "    )\n",
    "    V = torch.zeros_like(Xstd)\n",
    "    if fix_ind.sum():\n",
    "        V_fix = Xstd[fix_ind]\n",
    "        norm_max_fix = norm_max[fix_ind, None, None]\n",
    "        norm_min_fix = norm_min[fix_ind, None, None]\n",
    "        V_fix = torch.max(\n",
    "            torch.min(V_fix, norm_max_fix),\n",
    "            norm_min_fix,\n",
    "        )\n",
    "        V_fix = (V_fix - norm_min_fix) / (norm_max_fix - norm_min_fix)\n",
    "        V[fix_ind] = V_fix\n",
    "    return V\n",
    "\n",
    "\n",
    "def read_wav(path):\n",
    "    wav, org_sr = torchaudio.load(path, normalize=True)\n",
    "    wav = torchaudio.functional.resample(wav, orig_freq=org_sr, new_freq=mel_spec_params[\"sample_rate\"])\n",
    "    return wav\n",
    "\n",
    "\n",
    "def crop_start_wav(wav, duration_):\n",
    "    while wav.size(-1) < duration_:\n",
    "        wav = torch.cat([wav, wav], dim=1)\n",
    "    wav = wav[:, :duration_]\n",
    "    return wav\n",
    "\n",
    "\n",
    "class BirdDataset(torch.utils.data.Dataset):\n",
    "    def __init__(self, df, transform=None, add_secondary_labels=True):\n",
    "        self.df = df\n",
    "        self.bird2id = bird2id\n",
    "        self.num_classes = num_classes\n",
    "        self.secondary_coef = secondary_coef\n",
    "        self.add_secondary_labels = add_secondary_labels\n",
    "        self.mel_transform = torchaudio.transforms.MelSpectrogram(**mel_spec_params)\n",
    "        self.db_transform = torchaudio.transforms.AmplitudeToDB(stype='power', top_db=top_db)\n",
    "        self.transform = transform\n",
    "\n",
    "    def __len__(self):\n",
    "        return len(self.df)\n",
    "\n",
    "    def prepare_target(self, primary_label, secondary_labels):\n",
    "        secondary_labels = eval(secondary_labels)\n",
    "        target = np.zeros(self.num_classes, dtype=np.float32)\n",
    "        if primary_label != 'nocall':\n",
    "            primary_label = self.bird2id[primary_label]\n",
    "            target[primary_label] = 1.0\n",
    "        target = torch.from_numpy(target).float()\n",
    "        return target\n",
    "\n",
    "    def prepare_spec(self, path):\n",
    "        wav = read_wav(path)\n",
    "        wav = crop_start_wav(wav, train_duration)\n",
    "        mel_spectrogram = normalize_melspec(self.db_transform(self.mel_transform(wav)))\n",
    "        mel_spectrogram = mel_spectrogram * 255\n",
    "        mel_spectrogram = mel_spectrogram.expand(3, -1, -1).permute(1, 2, 0).numpy()\n",
    "        return mel_spectrogram\n",
    "\n",
    "    def __getitem__(self, idx):\n",
    "        path = self.df[\"path\"].iloc[idx]\n",
    "        primary_label = self.df[\"primary_label\"].iloc[idx]\n",
    "        secondary_labels = self.df[\"secondary_labels\"].iloc[idx]\n",
    "        rating = self.df[\"rating\"].iloc[idx]\n",
    "\n",
    "        spec = self.prepare_spec(path)\n",
    "        target = self.prepare_target(primary_label, secondary_labels)\n",
    "\n",
    "        if self.transform is not None:\n",
    "            res = self.transform(image=spec)\n",
    "            spec = res['image'].astype(np.float32)\n",
    "        else:\n",
    "            spec = spec.astype(np.float32)\n",
    "\n",
    "        spec = spec.transpose(2, 0, 1)\n",
    "\n",
    "        return {\"spec\": spec, \"target\": target, 'rating': rating}\n"
   ]
  },
  {
   "cell_type": "markdown",
   "id": "fcdd550c",
   "metadata": {},
   "source": [
    "## Model"
   ]
  },
  {
   "cell_type": "code",
   "execution_count": 9,
   "id": "28b81abc",
   "metadata": {
    "ExecuteTime": {
     "end_time": "2024-05-02T08:55:35.638517Z",
     "start_time": "2024-05-02T08:55:35.630720Z"
    }
   },
   "outputs": [],
   "source": [
    "\n",
    "class GeM(torch.nn.Module):\n",
    "    def __init__(self, p=3, eps=1e-6):\n",
    "        super(GeM, self).__init__()\n",
    "        self.p = torch.nn.Parameter(torch.ones(1) * p)\n",
    "        self.eps = eps\n",
    "\n",
    "    def forward(self, x):\n",
    "        bs, ch, h, w = x.shape\n",
    "        x = torch.nn.functional.avg_pool2d(x.clamp(min=self.eps).pow(self.p), (x.size(-2), x.size(-1))).pow(\n",
    "            1.0 / self.p)\n",
    "        x = x.view(bs, ch)\n",
    "        return x\n",
    "\n",
    "\n",
    "class CNN(torch.nn.Module):\n",
    "    def __init__(self, backbone, pretrained):\n",
    "        super().__init__()\n",
    "\n",
    "        out_indices = (3, 4)\n",
    "        self.backbone = timm.create_model(\n",
    "            backbone,\n",
    "            features_only=True,\n",
    "            pretrained=pretrained,\n",
    "            in_chans=3,\n",
    "            num_classes=num_classes,\n",
    "            out_indices=out_indices,\n",
    "        )\n",
    "        feature_dims = self.backbone.feature_info.channels()\n",
    "        #print(f\"feature dims: {feature_dims}\")\n",
    "\n",
    "        self.global_pools = torch.nn.ModuleList([GeM() for _ in out_indices])\n",
    "        self.mid_features = np.sum(feature_dims)\n",
    "        self.neck = torch.nn.BatchNorm1d(self.mid_features)\n",
    "        self.head = torch.nn.Linear(self.mid_features, num_classes)\n",
    "\n",
    "    def forward(self, x):\n",
    "        ms = self.backbone(x)\n",
    "        h = torch.cat([global_pool(m) for m, global_pool in zip(ms, self.global_pools)], dim=1)\n",
    "        x = self.neck(h)\n",
    "        x = self.head(x)\n",
    "        return x\n"
   ]
  },
  {
   "cell_type": "markdown",
   "id": "f1730d3a",
   "metadata": {},
   "source": [
    "## Loss"
   ]
  },
  {
   "cell_type": "code",
   "execution_count": 10,
   "id": "a043c877",
   "metadata": {
    "ExecuteTime": {
     "end_time": "2024-05-02T08:55:35.645087Z",
     "start_time": "2024-05-02T08:55:35.638517Z"
    }
   },
   "outputs": [],
   "source": [
    "\n",
    "class FocalLossBCE(torch.nn.Module):\n",
    "    def __init__(\n",
    "            self,\n",
    "            alpha: float = 0.25,\n",
    "            gamma: float = 2,\n",
    "            reduction: str = \"mean\",\n",
    "            bce_weight: float = 1.0,\n",
    "            focal_weight: float = 1.0,\n",
    "    ):\n",
    "        super().__init__()\n",
    "        self.alpha = alpha\n",
    "        self.gamma = gamma\n",
    "        self.reduction = reduction\n",
    "        self.bce = torch.nn.BCEWithLogitsLoss(reduction=reduction)\n",
    "        self.bce_weight = bce_weight\n",
    "        self.focal_weight = focal_weight\n",
    "\n",
    "    def forward(self, logits, targets):\n",
    "        focall_loss = torchvision.ops.focal_loss.sigmoid_focal_loss(\n",
    "            inputs=logits,\n",
    "            targets=targets,\n",
    "            alpha=self.alpha,\n",
    "            gamma=self.gamma,\n",
    "            reduction=self.reduction,\n",
    "        )\n",
    "        bce_loss = self.bce(logits, targets)\n",
    "        return self.bce_weight * bce_loss + self.focal_weight * focall_loss\n",
    "\n",
    "\n",
    "criterion = FocalLossBCE()"
   ]
  },
  {
   "cell_type": "markdown",
   "id": "47c53474",
   "metadata": {},
   "source": [
    "## Init Utils"
   ]
  },
  {
   "cell_type": "code",
   "execution_count": 11,
   "id": "5ab832d0",
   "metadata": {
    "ExecuteTime": {
     "end_time": "2024-05-02T08:55:35.652735Z",
     "start_time": "2024-05-02T08:55:35.645087Z"
    }
   },
   "outputs": [],
   "source": [
    "def init_logger(log_file='train.log'):\n",
    "    from logging import INFO, FileHandler, Formatter, StreamHandler, getLogger\n",
    "    logger = getLogger(__name__)\n",
    "    logger.setLevel(INFO)\n",
    "    handler1 = StreamHandler()\n",
    "    handler1.setFormatter(Formatter(\"%(message)s\"))\n",
    "    handler2 = FileHandler(filename=log_file)\n",
    "    handler2.setFormatter(Formatter(\"%(message)s\"))\n",
    "    logger.addHandler(handler1)\n",
    "    logger.addHandler(handler2)\n",
    "    return logger\n",
    "\n",
    "\n",
    "class AverageMeter(object):\n",
    "    \"\"\"Computes and stores the average and current value\"\"\"\n",
    "\n",
    "    def __init__(self):\n",
    "        self.reset()\n",
    "\n",
    "    def reset(self):\n",
    "        self.val = 0\n",
    "        self.avg = 0\n",
    "        self.sum = 0\n",
    "        self.count = 0\n",
    "\n",
    "    def update(self, val, n=1):\n",
    "        self.val = val\n",
    "        self.sum += val * n\n",
    "        self.count += n\n",
    "        self.avg = self.sum / self.count"
   ]
  },
  {
   "cell_type": "markdown",
   "id": "fd211cc2",
   "metadata": {},
   "source": [
    "## Train and Val Functions"
   ]
  },
  {
   "cell_type": "code",
   "execution_count": 12,
   "id": "44c2dd4e",
   "metadata": {
    "ExecuteTime": {
     "end_time": "2024-05-02T08:55:35.660572Z",
     "start_time": "2024-05-02T08:55:35.652735Z"
    }
   },
   "outputs": [],
   "source": [
    "from sklearn.metrics import roc_auc_score\n",
    "\n",
    "def mixup(data, targets, alpha):\n",
    "    indices = torch.randperm(data.size(0))\n",
    "    data2 = data[indices]\n",
    "    targets2 = targets[indices]\n",
    "\n",
    "    lam = torch.FloatTensor([np.random.beta(alpha, alpha)])\n",
    "    data = data * lam + data2 * (1 - lam)\n",
    "    targets = targets * lam + targets2 * (1 - lam)\n",
    "\n",
    "    return data, targets\n",
    "\n",
    "def train_one_epoch(model, loader, optimizer, scaler=None):\n",
    "    model.train()\n",
    "    losses = AverageMeter()\n",
    "    gt = []\n",
    "    preds = []\n",
    "    bar = tqdm(loader, total=len(loader))\n",
    "    for batch in bar:\n",
    "        optimizer.zero_grad()\n",
    "        spec = batch['spec']\n",
    "        target = batch['target']\n",
    "        spec = spec.to(device)\n",
    "        target = target.to(device)\n",
    "\n",
    "        if scaler is not None:\n",
    "            with torch.cuda.amp.autocast():\n",
    "                logits = model(spec)\n",
    "                loss = criterion(logits, target)\n",
    "            scaler.scale(loss).backward()\n",
    "            grad_norm = torch.nn.utils.clip_grad_norm_(model.parameters(), max_norm=max_grad_norm)\n",
    "            scaler.step(optimizer)\n",
    "            scaler.update()\n",
    "        else:\n",
    "            logits = model(spec)\n",
    "            loss = criterion(logits, target)\n",
    "            loss.backward()\n",
    "            grad_norm = torch.nn.utils.clip_grad_norm_(model.parameters(), max_norm=max_grad_norm)\n",
    "            optimizer.step()\n",
    "\n",
    "        losses.update(loss.item(), batch[\"spec\"].size(0))\n",
    "        bar.set_postfix(\n",
    "            loss=losses.avg,\n",
    "            grad=grad_norm.item(),\n",
    "            lr=optimizer.param_groups[0][\"lr\"]\n",
    "        )\n",
    "        gt.append(target.cpu().detach().numpy())\n",
    "        preds.append(logits.sigmoid().cpu().detach().numpy())\n",
    "    gt = np.concatenate(gt)\n",
    "    preds = np.concatenate(preds)\n",
    "    mask = gt.sum(0)>0\n",
    "    gt_1 = gt[:, mask]\n",
    "    preds_1 = preds[:, mask]\n",
    "    roc_auc = roc_auc_score(gt_1, preds_1, average='macro', multi_class='ovr')\n",
    "\n",
    "    return {'roc_auc':roc_auc}, losses.avg\n",
    "\n",
    "\n",
    "def valid_one_epoch(model, loader):\n",
    "    model.eval()\n",
    "    losses = AverageMeter()\n",
    "    bar = tqdm(loader, total=len(loader))\n",
    "    gt = []\n",
    "    preds = []\n",
    "\n",
    "    with torch.no_grad():\n",
    "        for batch in bar:\n",
    "            spec = batch['spec'].to(device)\n",
    "            target = batch['target'].to(device)\n",
    "            logits = model(spec)\n",
    "            loss = criterion(logits, target)\n",
    "\n",
    "            losses.update(loss.item(), batch[\"spec\"].size(0))\n",
    "\n",
    "            gt.append(target.cpu().detach().numpy())\n",
    "            preds.append(logits.sigmoid().cpu().detach().numpy())\n",
    "\n",
    "            bar.set_postfix(loss=losses.avg)\n",
    "\n",
    "    gt = np.concatenate(gt)\n",
    "    preds = np.concatenate(preds)\n",
    "    mask = gt.sum(0)>0\n",
    "    mask = mask\n",
    "    gt_1 = gt[:, mask]\n",
    "    preds_1 = preds[:, mask]\n",
    "    roc_auc = roc_auc_score(gt_1, preds_1, average='macro', multi_class='ovr')\n",
    "    return {'roc_auc':roc_auc}, losses.avg\n",
    "\n"
   ]
  },
  {
   "cell_type": "markdown",
   "id": "ed244737",
   "metadata": {},
   "source": [
    "## Scheduler"
   ]
  },
  {
   "cell_type": "code",
   "execution_count": 13,
   "id": "5b02e68e",
   "metadata": {
    "ExecuteTime": {
     "end_time": "2024-05-02T08:55:35.674443Z",
     "start_time": "2024-05-02T08:55:35.668050Z"
    }
   },
   "outputs": [],
   "source": [
    "# Fix Warmup Bug\n",
    "class GradualWarmupSchedulerV2(GradualWarmupScheduler):\n",
    "    def __init__(self, optimizer, multiplier, total_epoch, after_scheduler=None):\n",
    "        super(GradualWarmupSchedulerV2, self).__init__(optimizer, multiplier, total_epoch, after_scheduler)\n",
    "    def get_lr(self):\n",
    "        if self.last_epoch > self.total_epoch:\n",
    "            if self.after_scheduler:\n",
    "                if not self.finished:\n",
    "                    self.after_scheduler.base_lrs = [base_lr * self.multiplier for base_lr in self.base_lrs]\n",
    "                    self.finished = True\n",
    "                return self.after_scheduler.get_lr()\n",
    "            return [base_lr * self.multiplier for base_lr in self.base_lrs]\n",
    "        if self.multiplier == 1.0:\n",
    "            return [base_lr * (float(self.last_epoch) / self.total_epoch) for base_lr in self.base_lrs]\n",
    "        else:\n",
    "            return [base_lr * ((self.multiplier - 1.) * self.last_epoch / self.total_epoch + 1.) for base_lr in self.base_lrs]"
   ]
  },
  {
   "cell_type": "markdown",
   "id": "abecea46",
   "metadata": {},
   "source": [
    "## Transformation Images"
   ]
  },
  {
   "cell_type": "code",
   "execution_count": 14,
   "id": "d5b88175",
   "metadata": {},
   "outputs": [],
   "source": [
    "\n",
    "\n",
    "\n",
    "transforms_train = A.Compose([\n",
    "    A.HorizontalFlip(p=0.5),\n",
    "    A.Resize(image_size, image_size),\n",
    "    A.CoarseDropout(max_height=int(image_size * 0.375), max_width=int(image_size * 0.375), max_holes=1, p=0.7),\n",
    "    A.Normalize()\n",
    "])\n",
    "\n",
    "transforms_val = A.Compose([\n",
    "    A.Resize(image_size, image_size),\n",
    "    A.Normalize()\n",
    "])"
   ]
  },
  {
   "cell_type": "markdown",
   "id": "a33a4dc5",
   "metadata": {},
   "source": [
    "## Scheduler Plot"
   ]
  },
  {
   "cell_type": "code",
   "execution_count": 15,
   "id": "cc98571f",
   "metadata": {
    "ExecuteTime": {
     "end_time": "2024-05-02T08:55:35.869499Z",
     "start_time": "2024-05-02T08:55:35.674443Z"
    }
   },
   "outputs": [
    {
     "data": {
      "text/plain": [
       "[<matplotlib.lines.Line2D at 0x7f2ddc8b6bc0>]"
      ]
     },
     "execution_count": 15,
     "metadata": {},
     "output_type": "execute_result"
    },
    {
     "data": {
      "image/png": "[encoded data removed]",
      "text/plain": [
       "<Figure size 2000x200 with 1 Axes>"
      ]
     },
     "metadata": {},
     "output_type": "display_data"
    }
   ],
   "source": [
    "model = CNN(backbone=backbone, pretrained=False)\n",
    "rcParams['figure.figsize'] = 20, 2\n",
    "\n",
    "optimizer = AdamW(model.parameters(), lr=lr_max, weight_decay=weight_decay)\n",
    "scheduler_cosine = torch.optim.lr_scheduler.CosineAnnealingLR(optimizer, cosine_epo)\n",
    "scheduler_warmup = GradualWarmupSchedulerV2(optimizer, multiplier=10, total_epoch=warmup_epo, after_scheduler=scheduler_cosine)\n",
    "\n",
    "lrs = []\n",
    "for epoch in range(1, n_epochs):\n",
    "    scheduler_warmup.step()\n",
    "    lrs.append(optimizer.param_groups[0][\"lr\"])\n",
    "\n",
    "plt.plot(range(len(lrs)), lrs)"
   ]
  },
  {
   "cell_type": "code",
   "execution_count": 52,
   "id": "4b8b7762",
   "metadata": {
    "ExecuteTime": {
     "end_time": "2024-05-02T08:55:35.884741Z",
     "start_time": "2024-05-02T08:55:35.869499Z"
    }
   },
   "outputs": [],
   "source": [
    "\n",
    "def train_fold(model, n_epochs=5):\n",
    "    fold = 1\n",
    "    logger = init_logger(log_file=os.path.join(output_folder, exp_name, f\"{fold}.log\"))\n",
    "    \n",
    "\n",
    "    trn_df = df[df['fold'] != fold].reset_index(drop=True).sample(frac=0.5, random_state = 0)\n",
    "    val_df = df[df['fold'] == fold].reset_index(drop=True).sample(frac=0.5, random_state = 0)\n",
    "    test_df = df_test.sample(frac=0.5, random_state = 0)\n",
    "\n",
    "\n",
    "    trn_dataset = BirdDataset(df=trn_df.reset_index(drop=True), transform=transforms_train, add_secondary_labels=True)\n",
    "    v_ds = BirdDataset(df=val_df.reset_index(drop=True), transform=transforms_val, add_secondary_labels=True)\n",
    "    test_dataset = BirdDataset(df=test_df.reset_index(drop=True), transform=transforms_val, add_secondary_labels=True)\n",
    "\n",
    "    train_loader = torch.utils.data.DataLoader(trn_dataset, shuffle=True, batch_size=batch_size, drop_last=True, num_workers=num_workers, pin_memory=True)\n",
    "    val_loader = torch.utils.data.DataLoader(v_ds, shuffle=False, batch_size=batch_size, drop_last=False, num_workers=num_workers, pin_memory=True)\n",
    "    test_loader = torch.utils.data.DataLoader(test_dataset, shuffle=False, batch_size=batch_size, drop_last=False, num_workers=num_workers, pin_memory=True)\n",
    "\n",
    "\n",
    "    #model = CNN(backbone=backbone, pretrained=True).to(device)\n",
    "    optimizer = AdamW(model.parameters(), lr=lr_max, weight_decay=weight_decay)\n",
    "    scheduler_cosine = torch.optim.lr_scheduler.CosineAnnealingLR(optimizer, cosine_epo)\n",
    "    scheduler_warmup = GradualWarmupSchedulerV2(optimizer, multiplier=10, total_epoch=warmup_epo, after_scheduler=scheduler_cosine)\n",
    "\n",
    "\n",
    "    scaler = torch.cuda.amp.GradScaler() if use_amp else None\n",
    "    patience = early_stopping\n",
    "    best_score = 0.0\n",
    "    n_patience = 0\n",
    "\n",
    "    for epoch in range(1, n_epochs + 1):\n",
    "        print(time.ctime(), 'Epoch:', epoch)\n",
    "\n",
    "        scheduler_warmup.step(epoch-1)\n",
    "\n",
    "        train_scores, train_losses_avg = train_one_epoch(model, train_loader, optimizer, scaler)\n",
    "        train_scores_str = metrics_to_string(train_scores, \"Train\")\n",
    "        train_info = f\"Epoch {epoch} - Train loss: {train_losses_avg:.4f}, {train_scores_str}\"\n",
    "        print('train roc auc:', train_scores['roc_auc'])\n",
    "\n",
    "        val_scores, val_losses_avg = valid_one_epoch(model, val_loader)\n",
    "        val_scores_str = metrics_to_string(val_scores, f\"Valid\")\n",
    "        val_info = f\"Epoch {epoch} - Valid loss: {val_losses_avg:.4f}, {val_scores_str}\"\n",
    "        print('val roc auc:', val_scores['roc_auc'])\n",
    "\n",
    "        test_scores, test_losses_avg = valid_one_epoch(model, test_loader)\n",
    "        test_scores_str = metrics_to_string(test_scores, f\"Test\")\n",
    "        test_info = f\"Epoch {epoch} - Valid loss: {test_losses_avg:.4f}, {test_scores_str}\"\n",
    "        print('test roc auc:', test_scores['roc_auc'])\n",
    "\n",
    "        val_score = val_scores[\"roc_auc\"]\n",
    "\n",
    "        is_better = val_score > best_score\n",
    "        best_score = max(val_score, best_score)\n",
    "\n",
    "        if is_better:\n",
    "            state = {\n",
    "                \"epoch\": epoch,\n",
    "                \"state_dict\": model.state_dict(),\n",
    "                \"best_loss\": best_score,\n",
    "                \"optimizer\": optimizer.state_dict(),\n",
    "            }\n",
    "            print(f\"Epoch {epoch} - Save Best Score: {best_score:.4f} Model\\n\")\n",
    "            torch.save(\n",
    "                state,\n",
    "                os.path.join(output_folder, exp_name, f\"newmodel_{fold}.bin\")\n",
    "            )\n",
    "            n_patience = 0\n",
    "        else:\n",
    "            n_patience += 1\n",
    "            print(f\"Valid loss didn't improve last {n_patience} epochs.\\n\")\n",
    "\n",
    "        if n_patience >= patience:\n",
    "            logger.info(\n",
    "                \"Early stop, Training End.\\n\")\n",
    "            state = {\n",
    "                \"epoch\": epoch,\n",
    "                \"state_dict\": model.state_dict(),\n",
    "                \"best_loss\": best_score,\n",
    "                \"optimizer\": optimizer.state_dict(),\n",
    "            }\n",
    "            torch.save(\n",
    "                state,\n",
    "                os.path.join(output_folder, exp_name, f\"final_{fold}.bin\")\n",
    "            )\n",
    "            break\n",
    "\n",
    "    #del model\n",
    "    #torch.cuda.empty_cache()\n",
    "    #gc.collect()\n",
    "    return model"
   ]
  },
  {
   "cell_type": "code",
   "execution_count": 68,
   "id": "debc317b-1977-4642-9cac-258a2136e491",
   "metadata": {},
   "outputs": [],
   "source": [
    "df0 = pd.read_csv('../data_processed/train_metadata_sets_'+data_version+'.csv').reset_index(drop=True)\n",
    "df0[\"path\"] = \"../data/birdclef-2024/train_audio/\" + df0[\"filename\"]\n",
    "df0[\"rating\"] = np.clip(df0[\"rating\"] / df0[\"rating\"].max(), 0.1, 1.0)\n",
    "df_unlabeled = df0[df0.set=='unlabeled']#.sample(n=64*10, random_state=0)\n",
    "\n",
    "unlabeled_dataset = BirdDataset(df=df_unlabeled.reset_index(drop=True), transform=transforms_train, add_secondary_labels=True)\n",
    "unlabeled_loader = torch.utils.data.DataLoader(unlabeled_dataset, shuffle=True, batch_size=batch_size, drop_last=True, num_workers=num_workers, pin_memory=True)"
   ]
  },
  {
   "cell_type": "code",
   "execution_count": 77,
   "id": "00be2371-d098-40d1-b381-07dd98088865",
   "metadata": {},
   "outputs": [],
   "source": [
    "import torchaudio\n",
    "import torch\n",
    "import torch.nn as nn\n",
    "import torch.optim as optim\n",
    "from torchvision import transforms\n",
    "from tqdm import tqdm\n",
    "\n",
    "# Device setup\n",
    "device = torch.device(\"cuda\" if torch.cuda.is_available() else \"cpu\")\n",
    "\n",
    "# Simplified augmentations\n",
    "augmentations = transforms.Compose([\n",
    "    torchaudio.transforms.FrequencyMasking(freq_mask_param=15),\n",
    "    torchaudio.transforms.TimeMasking(time_mask_param=35),\n",
    "])\n",
    "\n",
    "# Simplified NTXentLoss\n",
    "class NTXentLoss(nn.Module):\n",
    "    def __init__(self, temperature=0.5):\n",
    "        super().__init__()\n",
    "        self.temperature = temperature\n",
    "\n",
    "    def forward(self, z_i, z_j):\n",
    "        batch_size = z_i.size(0)\n",
    "        z_i = nn.functional.normalize(z_i, dim=1)\n",
    "        z_j = nn.functional.normalize(z_j, dim=1)\n",
    "\n",
    "        z = torch.cat([z_i, z_j], dim=0)  # Concatenate embeddings\n",
    "        similarity_matrix = torch.mm(z, z.t()) / self.temperature\n",
    "        mask = torch.eye(2 * batch_size, device=z.device).bool()\n",
    "        similarity_matrix.masked_fill_(mask, -9e15)\n",
    "        positives = torch.cat([z_i, z_j], dim=0)\n",
    "        positives = torch.exp(torch.sum(z_i * z_j, dim=-1) / self.temperature)\n",
    "        denominator = torch.exp(similarity_matrix).sum(dim=1)\n",
    "        loss = -torch.log(positives / denominator[:batch_size])\n",
    "        return loss.mean()\n",
    "\n",
    "class SimCLRModel(nn.Module):\n",
    "    def __init__(self, backbone):\n",
    "        super().__init__()\n",
    "        self.backbone = backbone\n",
    "        self.projector = nn.Sequential(\n",
    "            nn.Linear(64, 128),\n",
    "            nn.ReLU(),\n",
    "            nn.Linear(128, 128)\n",
    "        )\n",
    "    def forward(self, x):\n",
    "        h = self.backbone(x)\n",
    "        z = self.projector(h)\n",
    "        return z\n",
    "\n",
    "\n",
    "def ssl_f(model2, lr = 1e-5):\n",
    "\n",
    "    ntxent_loss = NTXentLoss(temperature=0.5).to(device)\n",
    "    optimizer2 = optim.Adam(model2.parameters(), lr=lr)\n",
    "    for batch in tqdm(unlabeled_loader):\n",
    "        optimizer2.zero_grad()\n",
    "        spec = batch['spec'].to(device)\n",
    "        spectrogram_aug1 = augmentations(spec)\n",
    "        spectrogram_aug2 = augmentations(spec)\n",
    "        z_i = model2(spectrogram_aug1)\n",
    "        z_j = model2(spectrogram_aug2)\n",
    "        loss = ntxent_loss(z_i, z_j)\n",
    "        loss.backward()\n",
    "        optimizer2.step()\n",
    "    return model2"
   ]
  },
  {
   "cell_type": "code",
   "execution_count": 79,
   "id": "fcbc203e-f8ec-4723-af75-47977abb702a",
   "metadata": {},
   "outputs": [
    {
     "name": "stderr",
     "output_type": "stream",
     "text": [
      "100%|██████████| 8/8 [00:14<00:00,  1.83s/it, loss=0.0401]"
     ]
    },
    {
     "name": "stdout",
     "output_type": "stream",
     "text": [
      "test roc auc: 0.7464817784525198\n"
     ]
    },
    {
     "name": "stderr",
     "output_type": "stream",
     "text": [
      "\n"
     ]
    }
   ],
   "source": [
    "model2 = CNN(backbone=backbone, pretrained=False)\n",
    "model2.to(device)\n",
    "\n",
    "checkpoint_path = 'outputs/exp_v5/1.bin'\n",
    "\n",
    "# Load the checkpoint\n",
    "checkpoint = torch.load(checkpoint_path, map_location=device)\n",
    "\n",
    "# Load model weights\n",
    "model2.load_state_dict(checkpoint[\"state_dict\"])\n",
    "\n",
    "\n",
    "\n",
    "test_df = df_test.sample(frac=0.5, random_state = 0)\n",
    "\n",
    "\n",
    "test_dataset = BirdDataset(df=test_df.reset_index(drop=True), transform=transforms_val, add_secondary_labels=True)\n",
    "\n",
    "test_loader = torch.utils.data.DataLoader(test_dataset, shuffle=False, batch_size=batch_size, drop_last=False, num_workers=num_workers, pin_memory=True)\n",
    "\n",
    "\n",
    "test_scores, test_losses_avg = valid_one_epoch(model2, test_loader)\n",
    "test_scores_str = metrics_to_string(test_scores, f\"Test\")\n",
    "test_info = f\"Epoch {epoch} - Valid loss: {test_losses_avg:.4f}, {test_scores_str}\"\n",
    "print('test roc auc:', test_scores['roc_auc'])"
   ]
  },
  {
   "cell_type": "code",
   "execution_count": 80,
   "id": "0ab39ec7-9607-4a09-8479-f4d7cde953dc",
   "metadata": {},
   "outputs": [
    {
     "name": "stderr",
     "output_type": "stream",
     "text": [
      "100%|██████████| 18/18 [00:40<00:00,  2.23s/it]\n",
      "100%|██████████| 8/8 [00:14<00:00,  1.79s/it, loss=4.16]\n"
     ]
    },
    {
     "name": "stdout",
     "output_type": "stream",
     "text": [
      "test roc auc: 0.546870940162156\n"
     ]
    },
    {
     "name": "stderr",
     "output_type": "stream",
     "text": [
      "100%|██████████| 18/18 [00:40<00:00,  2.28s/it]\n",
      "100%|██████████| 8/8 [00:14<00:00,  1.81s/it, loss=1.88]\n"
     ]
    },
    {
     "name": "stdout",
     "output_type": "stream",
     "text": [
      "test roc auc: 0.6292411773345438\n"
     ]
    },
    {
     "name": "stderr",
     "output_type": "stream",
     "text": [
      "100%|██████████| 18/18 [00:40<00:00,  2.23s/it]\n",
      "100%|██████████| 8/8 [00:14<00:00,  1.86s/it, loss=3.75]\n"
     ]
    },
    {
     "name": "stdout",
     "output_type": "stream",
     "text": [
      "test roc auc: 0.6531550087311442\n"
     ]
    },
    {
     "name": "stderr",
     "output_type": "stream",
     "text": [
      "100%|██████████| 18/18 [00:40<00:00,  2.24s/it]\n",
      "100%|██████████| 8/8 [00:14<00:00,  1.82s/it, loss=2.57]\n"
     ]
    },
    {
     "name": "stdout",
     "output_type": "stream",
     "text": [
      "test roc auc: 0.6689337222088301\n"
     ]
    },
    {
     "name": "stderr",
     "output_type": "stream",
     "text": [
      "100%|██████████| 18/18 [00:40<00:00,  2.24s/it]\n",
      "100%|██████████| 8/8 [00:14<00:00,  1.80s/it, loss=4.23]\n"
     ]
    },
    {
     "name": "stdout",
     "output_type": "stream",
     "text": [
      "test roc auc: 0.6787913252803951\n",
      "Sat Dec 14 18:41:22 2024 Epoch: 1\n"
     ]
    },
    {
     "name": "stderr",
     "output_type": "stream",
     "text": [
      "100%|██████████| 86/86 [03:37<00:00,  2.53s/it, grad=5.7e+3, loss=0.0412, lr=1e-5] \n"
     ]
    },
    {
     "name": "stdout",
     "output_type": "stream",
     "text": [
      "train roc auc: 0.8851312810413682\n"
     ]
    },
    {
     "name": "stderr",
     "output_type": "stream",
     "text": [
      "100%|██████████| 22/22 [00:48<00:00,  2.22s/it, loss=0.0274]\n"
     ]
    },
    {
     "name": "stdout",
     "output_type": "stream",
     "text": [
      "val roc auc: 0.8215355518332174\n"
     ]
    },
    {
     "name": "stderr",
     "output_type": "stream",
     "text": [
      "100%|██████████| 8/8 [00:14<00:00,  1.79s/it, loss=0.0469]\n"
     ]
    },
    {
     "name": "stdout",
     "output_type": "stream",
     "text": [
      "test roc auc: 0.7490677617546933\n",
      "Epoch 1 - Save Best Score: 0.8215 Model\n",
      "\n",
      "\n",
      "\n",
      "\n"
     ]
    },
    {
     "name": "stderr",
     "output_type": "stream",
     "text": [
      "100%|██████████| 18/18 [00:39<00:00,  2.22s/it]\n",
      "100%|██████████| 8/8 [00:14<00:00,  1.82s/it, loss=3.54]\n"
     ]
    },
    {
     "name": "stdout",
     "output_type": "stream",
     "text": [
      "test roc auc: 0.6586714690449847\n"
     ]
    },
    {
     "name": "stderr",
     "output_type": "stream",
     "text": [
      "100%|██████████| 18/18 [00:40<00:00,  2.27s/it]\n",
      "100%|██████████| 8/8 [00:14<00:00,  1.79s/it, loss=3.35]\n"
     ]
    },
    {
     "name": "stdout",
     "output_type": "stream",
     "text": [
      "test roc auc: 0.6759544309713594\n"
     ]
    },
    {
     "name": "stderr",
     "output_type": "stream",
     "text": [
      "100%|██████████| 18/18 [00:40<00:00,  2.27s/it]\n",
      "100%|██████████| 8/8 [00:14<00:00,  1.83s/it, loss=3.43]\n"
     ]
    },
    {
     "name": "stdout",
     "output_type": "stream",
     "text": [
      "test roc auc: 0.6711127758344744\n"
     ]
    },
    {
     "name": "stderr",
     "output_type": "stream",
     "text": [
      "100%|██████████| 18/18 [00:40<00:00,  2.27s/it]\n",
      "100%|██████████| 8/8 [00:14<00:00,  1.80s/it, loss=3.83]\n"
     ]
    },
    {
     "name": "stdout",
     "output_type": "stream",
     "text": [
      "test roc auc: 0.6579153977569342\n"
     ]
    },
    {
     "name": "stderr",
     "output_type": "stream",
     "text": [
      "100%|██████████| 18/18 [00:40<00:00,  2.27s/it]\n",
      "100%|██████████| 8/8 [00:14<00:00,  1.84s/it, loss=3.82]\n"
     ]
    },
    {
     "name": "stdout",
     "output_type": "stream",
     "text": [
      "test roc auc: 0.6727524750649495\n",
      "Sat Dec 14 18:50:40 2024 Epoch: 1\n"
     ]
    },
    {
     "name": "stderr",
     "output_type": "stream",
     "text": [
      "100%|██████████| 86/86 [03:37<00:00,  2.53s/it, grad=1.82e+4, loss=0.0974, lr=1e-5]\n"
     ]
    },
    {
     "name": "stdout",
     "output_type": "stream",
     "text": [
      "train roc auc: 0.8276517674368435\n"
     ]
    },
    {
     "name": "stderr",
     "output_type": "stream",
     "text": [
      "100%|██████████| 22/22 [00:49<00:00,  2.24s/it, loss=0.0417]\n"
     ]
    },
    {
     "name": "stdout",
     "output_type": "stream",
     "text": [
      "val roc auc: 0.7390248874172352\n"
     ]
    },
    {
     "name": "stderr",
     "output_type": "stream",
     "text": [
      "100%|██████████| 8/8 [00:14<00:00,  1.82s/it, loss=0.0654]\n"
     ]
    },
    {
     "name": "stdout",
     "output_type": "stream",
     "text": [
      "test roc auc: 0.6812435091732209\n",
      "Epoch 1 - Save Best Score: 0.7390 Model\n",
      "\n",
      "\n",
      "\n",
      "\n"
     ]
    },
    {
     "name": "stderr",
     "output_type": "stream",
     "text": [
      "100%|██████████| 18/18 [00:40<00:00,  2.25s/it]\n",
      "100%|██████████| 8/8 [00:14<00:00,  1.85s/it, loss=3.59]\n"
     ]
    },
    {
     "name": "stdout",
     "output_type": "stream",
     "text": [
      "test roc auc: 0.6757533710121475\n"
     ]
    },
    {
     "name": "stderr",
     "output_type": "stream",
     "text": [
      "100%|██████████| 18/18 [00:41<00:00,  2.28s/it]\n",
      "100%|██████████| 8/8 [00:15<00:00,  1.88s/it, loss=3.62]\n"
     ]
    },
    {
     "name": "stdout",
     "output_type": "stream",
     "text": [
      "test roc auc: 0.6671823760979102\n"
     ]
    },
    {
     "name": "stderr",
     "output_type": "stream",
     "text": [
      "100%|██████████| 18/18 [00:40<00:00,  2.23s/it]\n",
      "100%|██████████| 8/8 [00:15<00:00,  1.90s/it, loss=4.16]\n"
     ]
    },
    {
     "name": "stdout",
     "output_type": "stream",
     "text": [
      "test roc auc: 0.661640520441205\n"
     ]
    },
    {
     "name": "stderr",
     "output_type": "stream",
     "text": [
      "100%|██████████| 18/18 [00:40<00:00,  2.26s/it]\n",
      "100%|██████████| 8/8 [00:14<00:00,  1.85s/it, loss=5.1] \n"
     ]
    },
    {
     "name": "stdout",
     "output_type": "stream",
     "text": [
      "test roc auc: 0.6553265431452794\n"
     ]
    },
    {
     "name": "stderr",
     "output_type": "stream",
     "text": [
      "100%|██████████| 18/18 [00:40<00:00,  2.24s/it]\n",
      "100%|██████████| 8/8 [00:14<00:00,  1.80s/it, loss=5.53]\n"
     ]
    },
    {
     "name": "stdout",
     "output_type": "stream",
     "text": [
      "test roc auc: 0.6655970076081886\n",
      "Sat Dec 14 19:00:00 2024 Epoch: 1\n"
     ]
    },
    {
     "name": "stderr",
     "output_type": "stream",
     "text": [
      "100%|██████████| 86/86 [03:37<00:00,  2.53s/it, grad=2.3e+4, loss=0.137, lr=1e-5] \n"
     ]
    },
    {
     "name": "stdout",
     "output_type": "stream",
     "text": [
      "train roc auc: 0.7906394529073187\n"
     ]
    },
    {
     "name": "stderr",
     "output_type": "stream",
     "text": [
      "100%|██████████| 22/22 [00:49<00:00,  2.23s/it, loss=0.0541]\n"
     ]
    },
    {
     "name": "stdout",
     "output_type": "stream",
     "text": [
      "val roc auc: 0.7219251486863791\n"
     ]
    },
    {
     "name": "stderr",
     "output_type": "stream",
     "text": [
      "100%|██████████| 8/8 [00:14<00:00,  1.80s/it, loss=0.0901]\n"
     ]
    },
    {
     "name": "stdout",
     "output_type": "stream",
     "text": [
      "test roc auc: 0.6456558805734994\n",
      "Epoch 1 - Save Best Score: 0.7219 Model\n",
      "\n",
      "\n",
      "\n",
      "\n"
     ]
    },
    {
     "name": "stderr",
     "output_type": "stream",
     "text": [
      "100%|██████████| 18/18 [00:40<00:00,  2.27s/it]\n",
      "100%|██████████| 8/8 [00:14<00:00,  1.83s/it, loss=4.92]\n"
     ]
    },
    {
     "name": "stdout",
     "output_type": "stream",
     "text": [
      "test roc auc: 0.6352686965687776\n"
     ]
    },
    {
     "name": "stderr",
     "output_type": "stream",
     "text": [
      "100%|██████████| 18/18 [00:40<00:00,  2.26s/it]\n",
      "100%|██████████| 8/8 [00:14<00:00,  1.78s/it, loss=4.92]\n"
     ]
    },
    {
     "name": "stdout",
     "output_type": "stream",
     "text": [
      "test roc auc: 0.6447530943838812\n"
     ]
    },
    {
     "name": "stderr",
     "output_type": "stream",
     "text": [
      "100%|██████████| 18/18 [00:40<00:00,  2.27s/it]\n",
      "100%|██████████| 8/8 [00:14<00:00,  1.80s/it, loss=5.07]\n"
     ]
    },
    {
     "name": "stdout",
     "output_type": "stream",
     "text": [
      "test roc auc: 0.6523566345437246\n"
     ]
    },
    {
     "name": "stderr",
     "output_type": "stream",
     "text": [
      "100%|██████████| 18/18 [00:40<00:00,  2.27s/it]\n",
      "100%|██████████| 8/8 [00:14<00:00,  1.83s/it, loss=4.83]\n"
     ]
    },
    {
     "name": "stdout",
     "output_type": "stream",
     "text": [
      "test roc auc: 0.6547082796275259\n"
     ]
    },
    {
     "name": "stderr",
     "output_type": "stream",
     "text": [
      "100%|██████████| 18/18 [00:41<00:00,  2.29s/it]\n",
      "100%|██████████| 8/8 [00:14<00:00,  1.85s/it, loss=5.2] \n"
     ]
    },
    {
     "name": "stdout",
     "output_type": "stream",
     "text": [
      "test roc auc: 0.6467486454376286\n",
      "Sat Dec 14 19:09:20 2024 Epoch: 1\n"
     ]
    },
    {
     "name": "stderr",
     "output_type": "stream",
     "text": [
      "100%|██████████| 86/86 [03:37<00:00,  2.53s/it, grad=2.03e+4, loss=0.175, lr=1e-5]\n"
     ]
    },
    {
     "name": "stdout",
     "output_type": "stream",
     "text": [
      "train roc auc: 0.7657172444374608\n"
     ]
    },
    {
     "name": "stderr",
     "output_type": "stream",
     "text": [
      "100%|██████████| 22/22 [00:49<00:00,  2.25s/it, loss=0.0773]\n"
     ]
    },
    {
     "name": "stdout",
     "output_type": "stream",
     "text": [
      "val roc auc: 0.6875894626133197\n"
     ]
    },
    {
     "name": "stderr",
     "output_type": "stream",
     "text": [
      "100%|██████████| 8/8 [00:14<00:00,  1.83s/it, loss=0.145]\n"
     ]
    },
    {
     "name": "stdout",
     "output_type": "stream",
     "text": [
      "test roc auc: 0.6152631140423871\n",
      "Epoch 1 - Save Best Score: 0.6876 Model\n",
      "\n",
      "\n",
      "\n",
      "\n"
     ]
    },
    {
     "name": "stderr",
     "output_type": "stream",
     "text": [
      "100%|██████████| 18/18 [00:41<00:00,  2.29s/it]\n",
      "100%|██████████| 8/8 [00:14<00:00,  1.78s/it, loss=6.56]\n"
     ]
    },
    {
     "name": "stdout",
     "output_type": "stream",
     "text": [
      "test roc auc: 0.6151868418174108\n"
     ]
    },
    {
     "name": "stderr",
     "output_type": "stream",
     "text": [
      "100%|██████████| 18/18 [00:40<00:00,  2.27s/it]\n",
      "100%|██████████| 8/8 [00:14<00:00,  1.82s/it, loss=8.26]\n"
     ]
    },
    {
     "name": "stdout",
     "output_type": "stream",
     "text": [
      "test roc auc: 0.6226221279433766\n"
     ]
    },
    {
     "name": "stderr",
     "output_type": "stream",
     "text": [
      "100%|██████████| 18/18 [00:40<00:00,  2.27s/it]\n",
      "100%|██████████| 8/8 [00:14<00:00,  1.81s/it, loss=8.44]\n"
     ]
    },
    {
     "name": "stdout",
     "output_type": "stream",
     "text": [
      "test roc auc: 0.6437315809908801\n"
     ]
    },
    {
     "name": "stderr",
     "output_type": "stream",
     "text": [
      "100%|██████████| 18/18 [00:40<00:00,  2.27s/it]\n",
      "100%|██████████| 8/8 [00:14<00:00,  1.81s/it, loss=9.74]\n"
     ]
    },
    {
     "name": "stdout",
     "output_type": "stream",
     "text": [
      "test roc auc: 0.6205302081058278\n"
     ]
    },
    {
     "name": "stderr",
     "output_type": "stream",
     "text": [
      "100%|██████████| 18/18 [00:41<00:00,  2.28s/it]\n",
      "100%|██████████| 8/8 [00:14<00:00,  1.79s/it, loss=9.34]\n"
     ]
    },
    {
     "name": "stdout",
     "output_type": "stream",
     "text": [
      "test roc auc: 0.6408916540093683\n",
      "Sat Dec 14 19:18:41 2024 Epoch: 1\n"
     ]
    },
    {
     "name": "stderr",
     "output_type": "stream",
     "text": [
      "100%|██████████| 86/86 [03:36<00:00,  2.52s/it, grad=3.84e+4, loss=0.223, lr=1e-5]\n"
     ]
    },
    {
     "name": "stdout",
     "output_type": "stream",
     "text": [
      "train roc auc: 0.7560910668102121\n"
     ]
    },
    {
     "name": "stderr",
     "output_type": "stream",
     "text": [
      "100%|██████████| 22/22 [00:49<00:00,  2.26s/it, loss=0.129]\n"
     ]
    },
    {
     "name": "stdout",
     "output_type": "stream",
     "text": [
      "val roc auc: 0.6617343191189171\n"
     ]
    },
    {
     "name": "stderr",
     "output_type": "stream",
     "text": [
      "100%|██████████| 8/8 [00:14<00:00,  1.82s/it, loss=0.174]\n"
     ]
    },
    {
     "name": "stdout",
     "output_type": "stream",
     "text": [
      "test roc auc: 0.636278418862398\n",
      "Epoch 1 - Save Best Score: 0.6617 Model\n",
      "\n",
      "\n",
      "\n",
      "\n"
     ]
    }
   ],
   "source": [
    "for r1 in range(5):\n",
    "    for r2 in range(5):\n",
    "        model2 = ssl_f(model2, lr=1e-4)\n",
    "        test_scores, test_losses_avg = valid_one_epoch(model2, test_loader)\n",
    "        test_scores_str = metrics_to_string(test_scores, f\"Test\")\n",
    "        test_info = f\"Epoch {epoch} - Valid loss: {test_losses_avg:.4f}, {test_scores_str}\"\n",
    "        print('test roc auc:', test_scores['roc_auc'])\n",
    "    model2 = train_fold(model2, n_epochs=1)\n",
    "    print('\\n\\n')"
   ]
  },
  {
   "cell_type": "code",
   "execution_count": 81,
   "id": "63912fe2-cda9-4b8c-82cb-672e612c971a",
   "metadata": {},
   "outputs": [
    {
     "name": "stdout",
     "output_type": "stream",
     "text": [
      "Sat Dec 14 19:23:23 2024 Epoch: 1\n"
     ]
    },
    {
     "name": "stderr",
     "output_type": "stream",
     "text": [
      "100%|██████████| 86/86 [03:35<00:00,  2.50s/it, grad=1.99e+4, loss=0.0709, lr=1e-5]\n"
     ]
    },
    {
     "name": "stdout",
     "output_type": "stream",
     "text": [
      "train roc auc: 0.6909720806260234\n"
     ]
    },
    {
     "name": "stderr",
     "output_type": "stream",
     "text": [
      "100%|██████████| 22/22 [00:49<00:00,  2.23s/it, loss=0.0638]\n"
     ]
    },
    {
     "name": "stdout",
     "output_type": "stream",
     "text": [
      "val roc auc: 0.6565369551091358\n"
     ]
    },
    {
     "name": "stderr",
     "output_type": "stream",
     "text": [
      "100%|██████████| 8/8 [00:14<00:00,  1.84s/it, loss=0.116] \n"
     ]
    },
    {
     "name": "stdout",
     "output_type": "stream",
     "text": [
      "test roc auc: 0.6068325345150636\n",
      "Epoch 1 - Save Best Score: 0.6565 Model\n",
      "\n",
      "Sat Dec 14 19:28:03 2024 Epoch: 2\n"
     ]
    },
    {
     "name": "stderr",
     "output_type": "stream",
     "text": [
      "100%|██████████| 86/86 [03:37<00:00,  2.53s/it, grad=1.09e+4, loss=0.037, lr=2.8e-5] \n"
     ]
    },
    {
     "name": "stdout",
     "output_type": "stream",
     "text": [
      "train roc auc: 0.708675065268028\n"
     ]
    },
    {
     "name": "stderr",
     "output_type": "stream",
     "text": [
      "100%|██████████| 22/22 [00:49<00:00,  2.25s/it, loss=0.114] \n"
     ]
    },
    {
     "name": "stdout",
     "output_type": "stream",
     "text": [
      "val roc auc: 0.6894485916650801\n"
     ]
    },
    {
     "name": "stderr",
     "output_type": "stream",
     "text": [
      "100%|██████████| 8/8 [00:14<00:00,  1.80s/it, loss=0.132] \n"
     ]
    },
    {
     "name": "stdout",
     "output_type": "stream",
     "text": [
      "test roc auc: 0.612031885558311\n",
      "Epoch 2 - Save Best Score: 0.6894 Model\n",
      "\n",
      "Sat Dec 14 19:32:46 2024 Epoch: 3\n"
     ]
    },
    {
     "name": "stderr",
     "output_type": "stream",
     "text": [
      "100%|██████████| 86/86 [03:37<00:00,  2.53s/it, grad=4.54e+4, loss=0.0303, lr=4.6e-5]\n"
     ]
    },
    {
     "name": "stdout",
     "output_type": "stream",
     "text": [
      "train roc auc: 0.7766150144763108\n"
     ]
    },
    {
     "name": "stderr",
     "output_type": "stream",
     "text": [
      "100%|██████████| 22/22 [00:49<00:00,  2.27s/it, loss=1.15] \n"
     ]
    },
    {
     "name": "stdout",
     "output_type": "stream",
     "text": [
      "val roc auc: 0.6984198635354788\n"
     ]
    },
    {
     "name": "stderr",
     "output_type": "stream",
     "text": [
      "100%|██████████| 8/8 [00:14<00:00,  1.84s/it, loss=0.556]\n"
     ]
    },
    {
     "name": "stdout",
     "output_type": "stream",
     "text": [
      "test roc auc: 0.6186754285542909\n",
      "Epoch 3 - Save Best Score: 0.6984 Model\n",
      "\n",
      "Sat Dec 14 19:37:29 2024 Epoch: 4\n"
     ]
    },
    {
     "name": "stderr",
     "output_type": "stream",
     "text": [
      "100%|██████████| 86/86 [03:36<00:00,  2.52s/it, grad=1.01e+4, loss=0.0273, lr=6.4e-5]\n"
     ]
    },
    {
     "name": "stdout",
     "output_type": "stream",
     "text": [
      "train roc auc: 0.8241513928024978\n"
     ]
    },
    {
     "name": "stderr",
     "output_type": "stream",
     "text": [
      "100%|██████████| 22/22 [00:48<00:00,  2.22s/it, loss=0.047] \n"
     ]
    },
    {
     "name": "stdout",
     "output_type": "stream",
     "text": [
      "val roc auc: 0.7943001746376439\n"
     ]
    },
    {
     "name": "stderr",
     "output_type": "stream",
     "text": [
      "100%|██████████| 8/8 [00:14<00:00,  1.82s/it, loss=0.0966]\n"
     ]
    },
    {
     "name": "stdout",
     "output_type": "stream",
     "text": [
      "test roc auc: 0.6580111772004765\n",
      "Epoch 4 - Save Best Score: 0.7943 Model\n",
      "\n",
      "Sat Dec 14 19:42:11 2024 Epoch: 5\n"
     ]
    },
    {
     "name": "stderr",
     "output_type": "stream",
     "text": [
      "100%|██████████| 86/86 [03:36<00:00,  2.52s/it, grad=5.14e+3, loss=0.022, lr=8.2e-5] \n"
     ]
    },
    {
     "name": "stdout",
     "output_type": "stream",
     "text": [
      "train roc auc: 0.8910762752121599\n"
     ]
    },
    {
     "name": "stderr",
     "output_type": "stream",
     "text": [
      "100%|██████████| 22/22 [00:48<00:00,  2.21s/it, loss=0.0376]\n"
     ]
    },
    {
     "name": "stdout",
     "output_type": "stream",
     "text": [
      "val roc auc: 0.8464138405253904\n"
     ]
    },
    {
     "name": "stderr",
     "output_type": "stream",
     "text": [
      "100%|██████████| 8/8 [00:14<00:00,  1.78s/it, loss=0.0938]\n"
     ]
    },
    {
     "name": "stdout",
     "output_type": "stream",
     "text": [
      "test roc auc: 0.6916026015683493\n",
      "Epoch 5 - Save Best Score: 0.8464 Model\n",
      "\n",
      "Sat Dec 14 19:46:51 2024 Epoch: 6\n"
     ]
    },
    {
     "name": "stderr",
     "output_type": "stream",
     "text": [
      "100%|██████████| 86/86 [03:37<00:00,  2.53s/it, grad=3.11e+3, loss=0.0184, lr=0.0001]\n"
     ]
    },
    {
     "name": "stdout",
     "output_type": "stream",
     "text": [
      "train roc auc: 0.933679323479277\n"
     ]
    },
    {
     "name": "stderr",
     "output_type": "stream",
     "text": [
      "100%|██████████| 22/22 [00:49<00:00,  2.25s/it, loss=0.0337]\n"
     ]
    },
    {
     "name": "stdout",
     "output_type": "stream",
     "text": [
      "val roc auc: 0.8627005123840952\n"
     ]
    },
    {
     "name": "stderr",
     "output_type": "stream",
     "text": [
      "100%|██████████| 8/8 [00:14<00:00,  1.78s/it, loss=0.0644]\n"
     ]
    },
    {
     "name": "stdout",
     "output_type": "stream",
     "text": [
      "test roc auc: 0.731767353536441\n",
      "Epoch 6 - Save Best Score: 0.8627 Model\n",
      "\n",
      "Sat Dec 14 19:51:34 2024 Epoch: 7\n"
     ]
    },
    {
     "name": "stderr",
     "output_type": "stream",
     "text": [
      "100%|██████████| 86/86 [03:34<00:00,  2.50s/it, grad=2.46e+3, loss=0.0151, lr=0.0001]\n"
     ]
    },
    {
     "name": "stdout",
     "output_type": "stream",
     "text": [
      "train roc auc: 0.9665158379933128\n"
     ]
    },
    {
     "name": "stderr",
     "output_type": "stream",
     "text": [
      "100%|██████████| 22/22 [00:49<00:00,  2.23s/it, loss=0.0216]\n"
     ]
    },
    {
     "name": "stdout",
     "output_type": "stream",
     "text": [
      "val roc auc: 0.8895248594737224\n"
     ]
    },
    {
     "name": "stderr",
     "output_type": "stream",
     "text": [
      "100%|██████████| 8/8 [00:14<00:00,  1.86s/it, loss=0.0465]\n"
     ]
    },
    {
     "name": "stdout",
     "output_type": "stream",
     "text": [
      "test roc auc: 0.7533987463482177\n",
      "Epoch 7 - Save Best Score: 0.8895 Model\n",
      "\n",
      "Sat Dec 14 19:56:14 2024 Epoch: 8\n"
     ]
    },
    {
     "name": "stderr",
     "output_type": "stream",
     "text": [
      "100%|██████████| 86/86 [03:37<00:00,  2.53s/it, grad=2.38e+3, loss=0.0125, lr=9.57e-5]\n"
     ]
    },
    {
     "name": "stdout",
     "output_type": "stream",
     "text": [
      "train roc auc: 0.9857125258773672\n"
     ]
    },
    {
     "name": "stderr",
     "output_type": "stream",
     "text": [
      "100%|██████████| 22/22 [00:49<00:00,  2.24s/it, loss=0.0195]\n"
     ]
    },
    {
     "name": "stdout",
     "output_type": "stream",
     "text": [
      "val roc auc: 0.9084167056886457\n"
     ]
    },
    {
     "name": "stderr",
     "output_type": "stream",
     "text": [
      "100%|██████████| 8/8 [00:14<00:00,  1.78s/it, loss=0.0443]\n"
     ]
    },
    {
     "name": "stdout",
     "output_type": "stream",
     "text": [
      "test roc auc: 0.7662402642093761\n",
      "Epoch 8 - Save Best Score: 0.9084 Model\n",
      "\n",
      "Sat Dec 14 20:00:57 2024 Epoch: 9\n"
     ]
    },
    {
     "name": "stderr",
     "output_type": "stream",
     "text": [
      "100%|██████████| 86/86 [03:36<00:00,  2.52s/it, grad=1.84e+3, loss=0.0104, lr=9.05e-5] \n"
     ]
    },
    {
     "name": "stdout",
     "output_type": "stream",
     "text": [
      "train roc auc: 0.9926726482304108\n"
     ]
    },
    {
     "name": "stderr",
     "output_type": "stream",
     "text": [
      "100%|██████████| 22/22 [00:48<00:00,  2.21s/it, loss=0.0202]\n"
     ]
    },
    {
     "name": "stdout",
     "output_type": "stream",
     "text": [
      "val roc auc: 0.9071073142468968\n"
     ]
    },
    {
     "name": "stderr",
     "output_type": "stream",
     "text": [
      "100%|██████████| 8/8 [00:14<00:00,  1.78s/it, loss=0.0441]\n"
     ]
    },
    {
     "name": "stdout",
     "output_type": "stream",
     "text": [
      "test roc auc: 0.7843059741341357\n",
      "Valid loss didn't improve last 1 epochs.\n",
      "\n",
      "Sat Dec 14 20:05:37 2024 Epoch: 10\n"
     ]
    },
    {
     "name": "stderr",
     "output_type": "stream",
     "text": [
      "100%|██████████| 86/86 [03:38<00:00,  2.54s/it, grad=2e+3, loss=0.00881, lr=8.35e-5]   \n"
     ]
    },
    {
     "name": "stdout",
     "output_type": "stream",
     "text": [
      "train roc auc: 0.9948904314973642\n"
     ]
    },
    {
     "name": "stderr",
     "output_type": "stream",
     "text": [
      "100%|██████████| 22/22 [00:49<00:00,  2.23s/it, loss=0.0176]\n"
     ]
    },
    {
     "name": "stdout",
     "output_type": "stream",
     "text": [
      "val roc auc: 0.9181125916165017\n"
     ]
    },
    {
     "name": "stderr",
     "output_type": "stream",
     "text": [
      "100%|██████████| 8/8 [00:14<00:00,  1.87s/it, loss=0.0433]\n"
     ]
    },
    {
     "name": "stdout",
     "output_type": "stream",
     "text": [
      "test roc auc: 0.7909033161231008\n",
      "Epoch 10 - Save Best Score: 0.9181 Model\n",
      "\n"
     ]
    }
   ],
   "source": [
    "model2 = train_fold(model2, n_epochs=10)"
   ]
  },
  {
   "cell_type": "code",
   "execution_count": 82,
   "id": "923e0229-7275-4c8d-a99f-a77edd78c5a8",
   "metadata": {},
   "outputs": [
    {
     "name": "stdout",
     "output_type": "stream",
     "text": [
      "Sat Dec 14 20:15:33 2024 Epoch: 1\n"
     ]
    },
    {
     "name": "stderr",
     "output_type": "stream",
     "text": [
      "100%|██████████| 86/86 [03:37<00:00,  2.53s/it, grad=2.55e+3, loss=0.00699, lr=1e-5]\n"
     ]
    },
    {
     "name": "stdout",
     "output_type": "stream",
     "text": [
      "train roc auc: 0.9980454808612129\n"
     ]
    },
    {
     "name": "stderr",
     "output_type": "stream",
     "text": [
      "100%|██████████| 22/22 [00:49<00:00,  2.26s/it, loss=0.0192]\n"
     ]
    },
    {
     "name": "stdout",
     "output_type": "stream",
     "text": [
      "val roc auc: 0.9250753784021302\n"
     ]
    },
    {
     "name": "stderr",
     "output_type": "stream",
     "text": [
      "100%|██████████| 8/8 [00:15<00:00,  1.89s/it, loss=0.0441]\n"
     ]
    },
    {
     "name": "stdout",
     "output_type": "stream",
     "text": [
      "test roc auc: 0.7979941935248913\n",
      "Epoch 1 - Save Best Score: 0.9251 Model\n",
      "\n",
      "Sat Dec 14 20:20:17 2024 Epoch: 2\n"
     ]
    },
    {
     "name": "stderr",
     "output_type": "stream",
     "text": [
      "100%|██████████| 86/86 [03:38<00:00,  2.54s/it, grad=3.18e+3, loss=0.00663, lr=2.8e-5]\n"
     ]
    },
    {
     "name": "stdout",
     "output_type": "stream",
     "text": [
      "train roc auc: 0.9979721335034614\n"
     ]
    },
    {
     "name": "stderr",
     "output_type": "stream",
     "text": [
      "100%|██████████| 22/22 [00:49<00:00,  2.26s/it, loss=0.0185]\n"
     ]
    },
    {
     "name": "stdout",
     "output_type": "stream",
     "text": [
      "val roc auc: 0.9219896576515656\n"
     ]
    },
    {
     "name": "stderr",
     "output_type": "stream",
     "text": [
      "100%|██████████| 8/8 [00:14<00:00,  1.83s/it, loss=0.0486]\n"
     ]
    },
    {
     "name": "stdout",
     "output_type": "stream",
     "text": [
      "test roc auc: 0.7979490528616845\n",
      "Valid loss didn't improve last 1 epochs.\n",
      "\n",
      "Sat Dec 14 20:25:01 2024 Epoch: 3\n"
     ]
    },
    {
     "name": "stderr",
     "output_type": "stream",
     "text": [
      "100%|██████████| 86/86 [03:36<00:00,  2.51s/it, grad=3.59e+3, loss=0.00631, lr=4.6e-5]\n"
     ]
    },
    {
     "name": "stdout",
     "output_type": "stream",
     "text": [
      "train roc auc: 0.9980941700642321\n"
     ]
    },
    {
     "name": "stderr",
     "output_type": "stream",
     "text": [
      "100%|██████████| 22/22 [00:49<00:00,  2.23s/it, loss=0.0177]\n"
     ]
    },
    {
     "name": "stdout",
     "output_type": "stream",
     "text": [
      "val roc auc: 0.9263773281958464\n"
     ]
    },
    {
     "name": "stderr",
     "output_type": "stream",
     "text": [
      "100%|██████████| 8/8 [00:14<00:00,  1.83s/it, loss=0.0422]\n"
     ]
    },
    {
     "name": "stdout",
     "output_type": "stream",
     "text": [
      "test roc auc: 0.7947016098459114\n",
      "Epoch 3 - Save Best Score: 0.9264 Model\n",
      "\n",
      "Sat Dec 14 20:29:43 2024 Epoch: 4\n"
     ]
    },
    {
     "name": "stderr",
     "output_type": "stream",
     "text": [
      "100%|██████████| 86/86 [03:37<00:00,  2.52s/it, grad=3.68e+3, loss=0.00583, lr=6.4e-5]\n"
     ]
    },
    {
     "name": "stdout",
     "output_type": "stream",
     "text": [
      "train roc auc: 0.9984908617949542\n"
     ]
    },
    {
     "name": "stderr",
     "output_type": "stream",
     "text": [
      "100%|██████████| 22/22 [00:49<00:00,  2.24s/it, loss=0.0202]\n"
     ]
    },
    {
     "name": "stdout",
     "output_type": "stream",
     "text": [
      "val roc auc: 0.9248599209687557\n"
     ]
    },
    {
     "name": "stderr",
     "output_type": "stream",
     "text": [
      "100%|██████████| 8/8 [00:14<00:00,  1.79s/it, loss=0.048] \n"
     ]
    },
    {
     "name": "stdout",
     "output_type": "stream",
     "text": [
      "test roc auc: 0.7902814497923573\n",
      "Valid loss didn't improve last 1 epochs.\n",
      "\n",
      "Sat Dec 14 20:34:24 2024 Epoch: 5\n"
     ]
    },
    {
     "name": "stderr",
     "output_type": "stream",
     "text": [
      "100%|██████████| 86/86 [03:39<00:00,  2.55s/it, grad=2.45e+3, loss=0.00555, lr=8.2e-5]\n"
     ]
    },
    {
     "name": "stdout",
     "output_type": "stream",
     "text": [
      "train roc auc: 0.9987543130067357\n"
     ]
    },
    {
     "name": "stderr",
     "output_type": "stream",
     "text": [
      "100%|██████████| 22/22 [00:48<00:00,  2.22s/it, loss=0.0197]\n"
     ]
    },
    {
     "name": "stdout",
     "output_type": "stream",
     "text": [
      "val roc auc: 0.9285960686171405\n"
     ]
    },
    {
     "name": "stderr",
     "output_type": "stream",
     "text": [
      "100%|██████████| 8/8 [00:14<00:00,  1.86s/it, loss=0.0478]\n"
     ]
    },
    {
     "name": "stdout",
     "output_type": "stream",
     "text": [
      "test roc auc: 0.7891796903530356\n",
      "Epoch 5 - Save Best Score: 0.9286 Model\n",
      "\n",
      "Sat Dec 14 20:39:09 2024 Epoch: 6\n"
     ]
    },
    {
     "name": "stderr",
     "output_type": "stream",
     "text": [
      "100%|██████████| 86/86 [03:35<00:00,  2.51s/it, grad=3.99e+3, loss=0.00503, lr=0.0001]\n"
     ]
    },
    {
     "name": "stdout",
     "output_type": "stream",
     "text": [
      "train roc auc: 0.9989274279407471\n"
     ]
    },
    {
     "name": "stderr",
     "output_type": "stream",
     "text": [
      "100%|██████████| 22/22 [00:49<00:00,  2.24s/it, loss=0.0276]\n"
     ]
    },
    {
     "name": "stdout",
     "output_type": "stream",
     "text": [
      "val roc auc: 0.9118330488995696\n"
     ]
    },
    {
     "name": "stderr",
     "output_type": "stream",
     "text": [
      "100%|██████████| 8/8 [00:14<00:00,  1.81s/it, loss=0.0503]\n"
     ]
    },
    {
     "name": "stdout",
     "output_type": "stream",
     "text": [
      "test roc auc: 0.780480887941295\n",
      "Valid loss didn't improve last 1 epochs.\n",
      "\n",
      "Sat Dec 14 20:43:49 2024 Epoch: 7\n"
     ]
    },
    {
     "name": "stderr",
     "output_type": "stream",
     "text": [
      "100%|██████████| 86/86 [03:36<00:00,  2.52s/it, grad=2.32e+3, loss=0.00433, lr=0.0001]\n"
     ]
    },
    {
     "name": "stdout",
     "output_type": "stream",
     "text": [
      "train roc auc: 0.9992846101098831\n"
     ]
    },
    {
     "name": "stderr",
     "output_type": "stream",
     "text": [
      "100%|██████████| 22/22 [00:48<00:00,  2.22s/it, loss=0.021] \n"
     ]
    },
    {
     "name": "stdout",
     "output_type": "stream",
     "text": [
      "val roc auc: 0.9210034060557656\n"
     ]
    },
    {
     "name": "stderr",
     "output_type": "stream",
     "text": [
      "100%|██████████| 8/8 [00:14<00:00,  1.84s/it, loss=0.0506]\n"
     ]
    },
    {
     "name": "stdout",
     "output_type": "stream",
     "text": [
      "test roc auc: 0.786109253893283\n",
      "Valid loss didn't improve last 2 epochs.\n",
      "\n",
      "Sat Dec 14 20:48:30 2024 Epoch: 8\n"
     ]
    },
    {
     "name": "stderr",
     "output_type": "stream",
     "text": [
      "100%|██████████| 86/86 [03:36<00:00,  2.52s/it, grad=2.82e+3, loss=0.00391, lr=9.57e-5]\n"
     ]
    },
    {
     "name": "stdout",
     "output_type": "stream",
     "text": [
      "train roc auc: 0.9993841648552672\n"
     ]
    },
    {
     "name": "stderr",
     "output_type": "stream",
     "text": [
      "100%|██████████| 22/22 [00:49<00:00,  2.24s/it, loss=0.0211]\n"
     ]
    },
    {
     "name": "stdout",
     "output_type": "stream",
     "text": [
      "val roc auc: 0.9237481422041\n"
     ]
    },
    {
     "name": "stderr",
     "output_type": "stream",
     "text": [
      "100%|██████████| 8/8 [00:14<00:00,  1.85s/it, loss=0.05]  \n"
     ]
    },
    {
     "name": "stdout",
     "output_type": "stream",
     "text": [
      "test roc auc: 0.7913375606059558\n",
      "Valid loss didn't improve last 3 epochs.\n",
      "\n",
      "Sat Dec 14 20:53:11 2024 Epoch: 9\n"
     ]
    },
    {
     "name": "stderr",
     "output_type": "stream",
     "text": [
      "100%|██████████| 86/86 [03:36<00:00,  2.52s/it, grad=3.14e+3, loss=0.00358, lr=9.05e-5]\n"
     ]
    },
    {
     "name": "stdout",
     "output_type": "stream",
     "text": [
      "train roc auc: 0.9994052426973915\n"
     ]
    },
    {
     "name": "stderr",
     "output_type": "stream",
     "text": [
      "100%|██████████| 22/22 [00:49<00:00,  2.24s/it, loss=0.018] \n"
     ]
    },
    {
     "name": "stdout",
     "output_type": "stream",
     "text": [
      "val roc auc: 0.9231448210960901\n"
     ]
    },
    {
     "name": "stderr",
     "output_type": "stream",
     "text": [
      "100%|██████████| 8/8 [00:14<00:00,  1.80s/it, loss=0.0451]\n"
     ]
    },
    {
     "name": "stdout",
     "output_type": "stream",
     "text": [
      "test roc auc: 0.7848159601138902\n",
      "Valid loss didn't improve last 4 epochs.\n",
      "\n",
      "Sat Dec 14 20:57:52 2024 Epoch: 10\n"
     ]
    },
    {
     "name": "stderr",
     "output_type": "stream",
     "text": [
      "100%|██████████| 86/86 [03:37<00:00,  2.53s/it, grad=1.9e+3, loss=0.00291, lr=8.35e-5] \n"
     ]
    },
    {
     "name": "stdout",
     "output_type": "stream",
     "text": [
      "train roc auc: 0.9997043075460275\n"
     ]
    },
    {
     "name": "stderr",
     "output_type": "stream",
     "text": [
      "100%|██████████| 22/22 [00:49<00:00,  2.23s/it, loss=0.0184]\n"
     ]
    },
    {
     "name": "stdout",
     "output_type": "stream",
     "text": [
      "val roc auc: 0.9185446418857481\n"
     ]
    },
    {
     "name": "stderr",
     "output_type": "stream",
     "text": [
      "100%|██████████| 8/8 [00:14<00:00,  1.79s/it, loss=0.0469]"
     ]
    },
    {
     "name": "stdout",
     "output_type": "stream",
     "text": [
      "test roc auc: 0.7990354962489211\n",
      "Valid loss didn't improve last 5 epochs.\n",
      "\n"
     ]
    },
    {
     "name": "stderr",
     "output_type": "stream",
     "text": [
      "\n"
     ]
    }
   ],
   "source": [
    "model2 = train_fold(model2, n_epochs=10)"
   ]
  }
 ],
 "metadata": {
  "kernelspec": {
   "display_name": "Python 3 (ipykernel)",
   "language": "python",
   "name": "python3"
  },
  "language_info": {
   "codemirror_mode": {
    "name": "ipython",
    "version": 3
   },
   "file_extension": ".py",
   "mimetype": "text/x-python",
   "name": "python",
   "nbconvert_exporter": "python",
   "pygments_lexer": "ipython3",
   "version": "3.11.6"
  }
 },
 "nbformat": 4,
 "nbformat_minor": 5
}
